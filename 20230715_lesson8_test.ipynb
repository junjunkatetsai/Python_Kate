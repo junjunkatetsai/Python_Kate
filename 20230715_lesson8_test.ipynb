{
 "cells": [
  {
   "cell_type": "code",
   "execution_count": 14,
   "metadata": {},
   "outputs": [],
   "source": [
    "filename = 'aqx_p_432.csv'\n",
    "file = open(filename,mode='r',encoding='utf-8',newline='')"
   ]
  },
  {
   "cell_type": "code",
   "execution_count": 15,
   "metadata": {},
   "outputs": [
    {
     "name": "stdout",
     "output_type": "stream",
     "text": [
      "['菜寮', '新北市', '21', '', '良好', '1.3', '0.17', '18', '23.2', '12', '5', '6.6', '8.7', '2', '3.9', '132', '2023/07/15 15:00:00', '0.2', '4.6', '10', '0', '121.481028', '25.06895', '8']\n"
     ]
    }
   ],
   "source": [
    "import csv\n",
    "csv_reader = csv.reader(file)\n",
    "data_all = list(csv_reader)\n",
    "for item in data_all:\n",
    "    if '菜寮' in item[0]:\n",
    "        print(item)"
   ]
  }
 ],
 "metadata": {
  "kernelspec": {
   "display_name": "Python 3",
   "language": "python",
   "name": "python3"
  },
  "language_info": {
   "codemirror_mode": {
    "name": "ipython",
    "version": 3
   },
   "file_extension": ".py",
   "mimetype": "text/x-python",
   "name": "python",
   "nbconvert_exporter": "python",
   "pygments_lexer": "ipython3",
   "version": "3.10.4"
  },
  "orig_nbformat": 4
 },
 "nbformat": 4,
 "nbformat_minor": 2
}
